{
  "nbformat": 4,
  "nbformat_minor": 0,
  "metadata": {
    "colab": {
      "provenance": [],
      "authorship_tag": "ABX9TyPf2ujSS7DUgE8dv2rbwgus",
      "include_colab_link": true
    },
    "kernelspec": {
      "name": "python3",
      "display_name": "Python 3"
    },
    "language_info": {
      "name": "python"
    }
  },
  "cells": [
    {
      "cell_type": "markdown",
      "metadata": {
        "id": "view-in-github",
        "colab_type": "text"
      },
      "source": [
        "<a href=\"https://colab.research.google.com/github/whoisnehuen/Pensamiento-computacional/blob/main/PensamientoComputacional2025.ipynb\" target=\"_parent\"><img src=\"https://colab.research.google.com/assets/colab-badge.svg\" alt=\"Open In Colab\"/></a>"
      ]
    },
    {
      "cell_type": "markdown",
      "source": [
        "# Guía de Ejercicios Nº 1:\n",
        "##*Introducción a la algoritmia*\n"
      ],
      "metadata": {
        "id": "Li2FXy-rCZG_"
      }
    },
    {
      "cell_type": "markdown",
      "source": [
        "7) A lo largo del cuatrimestre vamos a ver cómo podemos darle instrucciones a la computadora,\n",
        "a medida que vayamos aprendiendo a programar. Una vez visto el tutorial de Replit, realice\n",
        "su primer programa: hacer que se imprima por pantalla un “¡Hola mundo!”. Ayuda: escribir\n",
        "print(“¡Hola mundo!”) y darle play (Run)."
      ],
      "metadata": {
        "id": "MyWLVzB_CvAY"
      }
    },
    {
      "cell_type": "code",
      "execution_count": null,
      "metadata": {
        "colab": {
          "base_uri": "https://localhost:8080/"
        },
        "id": "aJb53pRgCW7E",
        "outputId": "d2b9b6c4-1331-43bd-accb-9d76e1bad137"
      },
      "outputs": [
        {
          "output_type": "stream",
          "name": "stdout",
          "text": [
            "¡Hola mundo!\n"
          ]
        }
      ],
      "source": [
        "print(\"¡Hola mundo!\")"
      ]
    },
    {
      "cell_type": "markdown",
      "source": [
        "8) Esta semana vimos que cuando programamos podemos guardar datos en variables. Teniendo\n",
        "en cuenta esto y recordando el concepto de variable que se estudió esta semana, guardar el\n",
        "texto “¡Hola mundo!” en una variable e imprimir el texto usando esa variable."
      ],
      "metadata": {
        "id": "T_cxm6ESDRjd"
      }
    },
    {
      "cell_type": "code",
      "source": [
        "a = \"¡Hola mundo!\"\n",
        "print(a)"
      ],
      "metadata": {
        "colab": {
          "base_uri": "https://localhost:8080/"
        },
        "id": "IR1IGlFHDX6a",
        "outputId": "c0b21b49-c527-4aab-9995-57acaea6f682"
      },
      "execution_count": null,
      "outputs": [
        {
          "output_type": "stream",
          "name": "stdout",
          "text": [
            "¡Hola mundo!\n"
          ]
        }
      ]
    },
    {
      "cell_type": "markdown",
      "source": [
        "9) Crear otro programa que guarde un número en una variable, y luego lo imprima por pantalla,\n",
        "como hicimos con el “¡Hola mundo!” del ejercicio 2, sólo que ahora hay que poner el nombre\n",
        "de la variable en lugar del “¡Hola mundo!”."
      ],
      "metadata": {
        "id": "zpfIMOsQDhlL"
      }
    },
    {
      "cell_type": "code",
      "source": [
        "b = 323\n",
        "print(b)"
      ],
      "metadata": {
        "colab": {
          "base_uri": "https://localhost:8080/"
        },
        "id": "HAxhcQhDDjNB",
        "outputId": "5cb0e103-73c4-47c5-d5ff-0f33de2b215b"
      },
      "execution_count": null,
      "outputs": [
        {
          "output_type": "stream",
          "name": "stdout",
          "text": [
            "323\n"
          ]
        }
      ]
    },
    {
      "cell_type": "markdown",
      "source": [
        "10) Vamos con otro un poco más complejo. Para el siguiente programa a realizar, se pide hacer\n",
        "dos variables que guarden dentro números, y luego sumarlos. El resultado se tendrá que\n",
        "guardar en otra variable, y luego imprimir este resultado."
      ],
      "metadata": {
        "id": "orvhsz4DDxOp"
      }
    },
    {
      "cell_type": "code",
      "source": [
        "x = 10\n",
        "y = 5\n",
        "z = x + y\n",
        "print(z)"
      ],
      "metadata": {
        "colab": {
          "base_uri": "https://localhost:8080/"
        },
        "id": "Pspur9bhD0r9",
        "outputId": "8a4dd2d2-3095-42c3-8fb4-7553aa3d11b4"
      },
      "execution_count": null,
      "outputs": [
        {
          "output_type": "stream",
          "name": "stdout",
          "text": [
            "15\n"
          ]
        }
      ]
    },
    {
      "cell_type": "markdown",
      "source": [
        "11) ¿Te animás a probar el programa del ejercicio anterior con otras operaciones aritméticas y\n",
        "combinándolas? Es decir, probar combinando la suma, división, resta y multiplicación. ¿Y con\n",
        "más variables?"
      ],
      "metadata": {
        "id": "lfKnlW1CEB6O"
      }
    },
    {
      "cell_type": "code",
      "source": [
        "x = 10\n",
        "y = 5\n",
        "z = x * y\n",
        "print(z)\n",
        "z = int(x/y)\n",
        "print(z)\n",
        "z = x - y\n",
        "print(z)"
      ],
      "metadata": {
        "colab": {
          "base_uri": "https://localhost:8080/"
        },
        "id": "gF7mVOTkEDRc",
        "outputId": "ba88630c-a893-4197-80d0-a41280309902"
      },
      "execution_count": null,
      "outputs": [
        {
          "output_type": "stream",
          "name": "stdout",
          "text": [
            "50\n",
            "2\n",
            "5\n"
          ]
        }
      ]
    },
    {
      "cell_type": "markdown",
      "source": [
        "#Guía de ejercicios Nº2\n",
        "##*Sentencias básicas y datos simples*##"
      ],
      "metadata": {
        "id": "fuSrghXHEfHD"
      }
    },
    {
      "cell_type": "markdown",
      "source": [
        "1) Crear un programa que le solicite al usuario un entero y lo imprima por pantalla. Recordá que podés usar las funciones input (para solicitar información) y print para mostrar información."
      ],
      "metadata": {
        "id": "n3kGDpaLGZL5"
      }
    },
    {
      "cell_type": "code",
      "source": [
        "a=int(input(\"Ingrese un numero:\"))\n",
        "print(a)"
      ],
      "metadata": {
        "colab": {
          "base_uri": "https://localhost:8080/"
        },
        "id": "8ytSU06pEjNy",
        "outputId": "d7856cab-b0d1-40c5-bede-fab5faa91b07"
      },
      "execution_count": null,
      "outputs": [
        {
          "output_type": "stream",
          "name": "stdout",
          "text": [
            "Ingrese un numero:34\n",
            "34\n"
          ]
        }
      ]
    },
    {
      "cell_type": "markdown",
      "source": [
        "2) Crear un programa que le solicite al usuario dos números enteros y luego imprima por pantalla:\n",
        "\n",
        "● la suma de ambos números\n",
        "\n",
        "● la resta de ambos números\n",
        "\n",
        "● la multiplicación de ambos números\n",
        "\n",
        "● la división entera de ambos números\n",
        "\n",
        "● el resto\n",
        "\n",
        "Más adelante podríamos crear nuestra propia calculadora :)"
      ],
      "metadata": {
        "id": "mq4OP4wtHH8V"
      }
    },
    {
      "cell_type": "code",
      "source": [
        "a=int(input(\"Ingrese un numero:\"))\n",
        "b=int(input(\"Ingrese otro numero:\"))\n",
        "suma= a + b\n",
        "resta= a - b\n",
        "multi= a * b\n",
        "divi= a / b\n",
        "resto= a % b\n",
        "print(suma)\n",
        "print(resta)\n",
        "print(multi)\n",
        "print(divi)\n",
        "print(resto)"
      ],
      "metadata": {
        "colab": {
          "base_uri": "https://localhost:8080/"
        },
        "id": "R_0xLCpdHP-Z",
        "outputId": "5b26281f-cadc-4a4e-d485-8c19ef893fb9"
      },
      "execution_count": null,
      "outputs": [
        {
          "output_type": "stream",
          "name": "stdout",
          "text": [
            "Ingrese un numero:38\n",
            "Ingrese otro numero:78\n",
            "116\n",
            "-40\n",
            "2964\n",
            "0.48717948717948717\n",
            "38\n"
          ]
        }
      ]
    },
    {
      "cell_type": "markdown",
      "source": [
        "3) Crear un programa que le solicite al usuario un entero y determine si es par, mostrando por pantalla un\n",
        "mensaje que indique el resultado.\n",
        "Para determinar si un número es par o impar, se puede determinar con el uso del operador %, les\n",
        "dejamos a ustedes el cómo."
      ],
      "metadata": {
        "id": "p-p5Jfj0wCle"
      }
    },
    {
      "cell_type": "code",
      "source": [
        "a= int(input(\"Ingrese un número:\"))\n",
        "\n",
        "num = a % 2\n",
        "if num == 0:\n",
        "  print(f\"El número {a} es par\")\n",
        "else:\n",
        "  print(f\"El número {a} es impar\")"
      ],
      "metadata": {
        "colab": {
          "base_uri": "https://localhost:8080/"
        },
        "id": "-paZkfsfwHFX",
        "outputId": "3e9358f1-a66c-46ac-8cec-2896d463c7b6"
      },
      "execution_count": null,
      "outputs": [
        {
          "output_type": "stream",
          "name": "stdout",
          "text": [
            "Ingrese un número:23\n",
            "El número 23 es impar\n"
          ]
        }
      ]
    },
    {
      "cell_type": "markdown",
      "source": [
        "4) Escribir un programa que le pida a un usuario su año de nacimiento y otro año, y le diga qué edad tenía\n",
        "el usuario en el año ingresado."
      ],
      "metadata": {
        "id": "7x5lijUtxNkE"
      }
    },
    {
      "cell_type": "code",
      "source": [
        "a = int(input(\"Ingrese año de nacimiento:\"))\n",
        "b = int(input(\"Ingrese un año:\"))\n",
        "edad = b - a\n",
        "print(f\"Usted en el año {b} tenia/tiene/tendrá: {edad} años\")"
      ],
      "metadata": {
        "colab": {
          "base_uri": "https://localhost:8080/"
        },
        "id": "HDubon1exSZz",
        "outputId": "aee9aa12-940c-4bdf-d033-58c624c6768a"
      },
      "execution_count": null,
      "outputs": [
        {
          "output_type": "stream",
          "name": "stdout",
          "text": [
            "Ingrese año de nacimiento:2008\n",
            "Ingrese un año:1999\n",
            "Usted en el año 1999 tenia/tiene/tendrá: -9 años\n"
          ]
        }
      ]
    },
    {
      "cell_type": "markdown",
      "source": [
        "5) Crear un programa que le solicite al usuario 5 enteros y muestre por pantalla el promedio de ellos.\n",
        "Es muy común usar variables para acumular valores."
      ],
      "metadata": {
        "id": "CSIOEsmbx0qU"
      }
    },
    {
      "cell_type": "code",
      "source": [
        "a = int(input(\"Ingrese el primer número:\"))\n",
        "b = int(input(\"Ingrese el segundo número:\"))\n",
        "c = int(input(\"Ingrese el tercer número:\"))\n",
        "d = int(input(\"Ingrese el cuarto número:\"))\n",
        "e = int(input(\"Ingrese el quinto número:\"))\n",
        "uno = a + b + c + d + e\n",
        "pro = uno / 5\n",
        "print(f\"El promedio es: {pro}\")"
      ],
      "metadata": {
        "colab": {
          "base_uri": "https://localhost:8080/"
        },
        "id": "-nllEa2Ix4HJ",
        "outputId": "1fa8ddec-cfd3-432c-9063-57518ea4ab18"
      },
      "execution_count": null,
      "outputs": [
        {
          "output_type": "stream",
          "name": "stdout",
          "text": [
            "Ingrese el primer número:23\n",
            "Ingrese el segundo número:456\n",
            "Ingrese el tercer número:67\n",
            "Ingrese el cuarto número:999\n",
            "Ingrese el quinto número:444\n",
            "El promedio es: 397.8\n"
          ]
        }
      ]
    },
    {
      "cell_type": "markdown",
      "source": [
        "6) Crear una función que reciba un número y muestre el anterior y el siguiente."
      ],
      "metadata": {
        "id": "_PotA7a0yx-s"
      }
    },
    {
      "cell_type": "code",
      "source": [
        "a = int(input(\"Ingrese un número:\"))\n",
        "ant = a - 1\n",
        "pos = a + 1\n",
        "print(f\"El número anterior a {a} es {ant} y el posterior es {pos}\")"
      ],
      "metadata": {
        "colab": {
          "base_uri": "https://localhost:8080/"
        },
        "id": "PeB0xQ44y01i",
        "outputId": "4710dfff-7729-4113-97bb-05ba3af1c17b"
      },
      "execution_count": null,
      "outputs": [
        {
          "output_type": "stream",
          "name": "stdout",
          "text": [
            "Ingrese un número:5\n",
            "El número anterior a 5 es 4 y el posterior es 6\n"
          ]
        }
      ]
    },
    {
      "cell_type": "markdown",
      "source": [
        "7) Crear una función que una un string y un entero, ambos dentro de un string."
      ],
      "metadata": {
        "id": "chP0mqqFzQQL"
      }
    },
    {
      "cell_type": "code",
      "source": [
        "a = input(\"Ingrese una palabra:\")\n",
        "b = int(input(\"Ingrese un número:\"))\n",
        "print(f\"Hay {b} {a}\")"
      ],
      "metadata": {
        "colab": {
          "base_uri": "https://localhost:8080/"
        },
        "id": "I21iDTAwzSqb",
        "outputId": "2d728935-3ec7-4478-e0a2-2e9f7c397135"
      },
      "execution_count": null,
      "outputs": [
        {
          "output_type": "stream",
          "name": "stdout",
          "text": [
            "Ingrese una palabra:auto\n",
            "Ingrese un número:4\n",
            "Hay 4 auto\n"
          ]
        }
      ]
    },
    {
      "cell_type": "markdown",
      "source": [
        "8)\n",
        "a. Crear una función que reciba dos enteros y que retorne (devuelva) el resto de la división.\n",
        "\n",
        "b. Crear una función que reciba dos enteros y que retorne (devuelva) el cociente.\n"
      ],
      "metadata": {
        "id": "caIiblAYzvDN"
      }
    },
    {
      "cell_type": "code",
      "source": [
        "a = int(input(\"Ingrese un número entero:\"))\n",
        "b = int(input(\"Ingrese otro número entero:\"))\n",
        "r = a % b\n",
        "c = a / b\n",
        "print(f\"El cociente entre {a} y {b} es {c} y el resto {r}\")"
      ],
      "metadata": {
        "id": "BgbkFv17zyVt",
        "colab": {
          "base_uri": "https://localhost:8080/"
        },
        "outputId": "7d78874c-0665-4e83-e1c7-d2577b43ca8e"
      },
      "execution_count": null,
      "outputs": [
        {
          "output_type": "stream",
          "name": "stdout",
          "text": [
            "Ingrese un número entero:55\n",
            "Ingrese otro número entero:5\n",
            "El cociente entre 55 y 5 es 11.0 y el resto 0\n"
          ]
        }
      ]
    },
    {
      "cell_type": "markdown",
      "source": [
        "9) Pedirle nombre y apellido por separado e imprimir “Apellido, Nombre”.\n",
        "Este proceso se llama concatenar cadenas."
      ],
      "metadata": {
        "id": "pFqdEzfWAWyM"
      }
    },
    {
      "cell_type": "code",
      "source": [
        "nombre = input(\"Ingrese su nombre:\")\n",
        "apellido = input(\"Ingrese su apellido:\")\n",
        "print(f\"Bienvenid@ {apellido}, {nombre}!\")"
      ],
      "metadata": {
        "colab": {
          "base_uri": "https://localhost:8080/"
        },
        "id": "rwnK5_-kAaKQ",
        "outputId": "5e327c6d-e48f-4abf-e2bb-932a85e228bf"
      },
      "execution_count": null,
      "outputs": [
        {
          "output_type": "stream",
          "name": "stdout",
          "text": [
            "Ingrese su nombre:Nehuen\n",
            "Ingrese su apellido:Jara\n",
            "Bienvenid@ Jara, Nehuen\n"
          ]
        }
      ]
    },
    {
      "cell_type": "markdown",
      "source": [
        "10) Obtener una palabra e imprimir la cantidad de letras."
      ],
      "metadata": {
        "id": "zKgv-RUJA3Gx"
      }
    },
    {
      "cell_type": "code",
      "source": [
        "a = len(input(\"Ingrese una palabra:\"))\n",
        "print(f\"La palabra tiene una longitud de {a} letras\")"
      ],
      "metadata": {
        "colab": {
          "base_uri": "https://localhost:8080/"
        },
        "id": "nG2F6NedA6yy",
        "outputId": "4984c35b-c322-4d81-ba74-4ebfaef7dc33"
      },
      "execution_count": null,
      "outputs": [
        {
          "output_type": "stream",
          "name": "stdout",
          "text": [
            "Ingrese una palabra:casco\n",
            "La palabra tiene una longitud de 5 letras\n"
          ]
        }
      ]
    },
    {
      "cell_type": "markdown",
      "source": [
        "11) Obtener una palabra e imprimir los primeros 5 caracteres (pista: slicear la palabra)."
      ],
      "metadata": {
        "id": "kBuJH8F6BgIf"
      }
    },
    {
      "cell_type": "code",
      "source": [
        "a = input(\"Ingrese una palabra:\")\n",
        "xd = slice(0, 5)\n",
        "b = a[xd]\n",
        "print(b)"
      ],
      "metadata": {
        "colab": {
          "base_uri": "https://localhost:8080/"
        },
        "id": "h-ISPTzTBjiR",
        "outputId": "beda72cf-f7f4-4607-b286-65e42559a7b7"
      },
      "execution_count": null,
      "outputs": [
        {
          "output_type": "stream",
          "name": "stdout",
          "text": [
            "Ingrese una palabra:cacatua\n",
            "cacat\n"
          ]
        }
      ]
    },
    {
      "cell_type": "markdown",
      "source": [
        "12) Obtener una palabra, borrarle todas las ‘a’ e imprimirla por pantalla (pista: usar una función predefinida\n",
        "de Python)."
      ],
      "metadata": {
        "id": "ujKunzbVCT5W"
      }
    },
    {
      "cell_type": "code",
      "source": [
        "palabra = input(\"Ingrese una palabra:\")\n",
        "a = palabra.replace(\"a\",\"\")\n",
        "print(a)"
      ],
      "metadata": {
        "colab": {
          "base_uri": "https://localhost:8080/"
        },
        "id": "dUI9C4Q-CVZP",
        "outputId": "76ac5a30-03cd-4c53-e7e9-a16b8966e455"
      },
      "execution_count": null,
      "outputs": [
        {
          "output_type": "stream",
          "name": "stdout",
          "text": [
            "Ingrese una palabra:llama\n",
            "llm\n"
          ]
        }
      ]
    },
    {
      "cell_type": "markdown",
      "source": [
        "#Guía de ejercicios Nº3\n",
        "##*I dont know*##"
      ],
      "metadata": {
        "id": "YU6nVW6nC7gE"
      }
    },
    {
      "cell_type": "code",
      "source": [
        "print(\"I dont know\")"
      ],
      "metadata": {
        "colab": {
          "base_uri": "https://localhost:8080/"
        },
        "id": "K3BU3qHuC-9_",
        "outputId": "8742f7e5-73b5-4889-82b8-1d934c07457b"
      },
      "execution_count": null,
      "outputs": [
        {
          "output_type": "stream",
          "name": "stdout",
          "text": [
            "I dont know\n"
          ]
        }
      ]
    }
  ]
}